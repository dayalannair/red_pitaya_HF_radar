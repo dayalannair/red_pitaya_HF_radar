{
 "cells": [
  {
   "cell_type": "code",
   "execution_count": null,
   "id": "66829b3d",
   "metadata": {
    "scrolled": true
   },
   "outputs": [],
   "source": [
    "using DelimitedFiles\n",
    "using Plots\n",
    "plotly()\n",
    "using FFTW\n",
    "\n",
    "N = 720000\n",
    "fs = 125e6\n",
    "Δt = 1/fs\n",
    "t = 0:Δt:(N-1)*Δt;\n",
    "f = (0:N-1)*fs/N"
   ]
  },
  {
   "cell_type": "code",
   "execution_count": null,
   "id": "b265a49f",
   "metadata": {},
   "outputs": [],
   "source": [
    "d1 =(open(readdlm,\"adc1_wiz1.txt\"));\n",
    "d2 =(open(readdlm,\"adc2_wiz10.txt\"));\n",
    "#dat = [d1, d2]\n",
    "#d1 =(open(readdlm,\"adc1_16bit.txt\"));\n",
    "#d1 =(open(readdlm,\"adc1_24bit.txt\"));\n",
    "#d2 =(open(readdlm,\"adc1_20bit.txt\"));"
   ]
  },
  {
   "cell_type": "code",
   "execution_count": null,
   "id": "c64c2926",
   "metadata": {
    "scrolled": false
   },
   "outputs": [],
   "source": [
    "p1 = plot(t,d1.*2/2^14,label = [\"Red Pitaya OUT1\" \"Red Pitaya OUT2\"], ticks=:native)#, markershape = :xcross)\n",
    "ylabel!(\"Amplitude (V)\")\n",
    "xlabel!(\"Time (s)\")"
   ]
  },
  {
   "cell_type": "code",
   "execution_count": null,
   "id": "4ca52ba5",
   "metadata": {},
   "outputs": [],
   "source": [
    "D1 = fft(d1);\n",
    "#D2 = fft(d2);\n",
    "#DAT = [abs.(D1[1:last]), abs.(D2[1:last])]\n",
    "last  = Int(N/2)\n",
    "p2 = plot(f[1:last],abs.(D1[1:last]), label = [\"Red Pitaya OUT1\" \"Red Pitaya OUT2\"], ticks=:native)\n",
    "#title!(\"Magnitude response\")\n",
    "xlabel!(\"Frequency (Hz)\")\n",
    "ylabel!(\"Magnitude\")"
   ]
  },
  {
   "cell_type": "code",
   "execution_count": null,
   "id": "ab77d111",
   "metadata": {},
   "outputs": [],
   "source": [
    "using Statistics\n",
    "#p = plot(d1[300000:301000])\n",
    "@show mean(d1[300000:end])"
   ]
  },
  {
   "cell_type": "code",
   "execution_count": null,
   "id": "25584f18",
   "metadata": {},
   "outputs": [],
   "source": [
    "noise = d1[300000:end]\n",
    "@show var(noise)\n",
    "@show findmax(d1)\n",
    "@show signal_peak = findmax(d1)[1]\n",
    "\n",
    "@show SNR_o = (signal_peak^2)/var(noise)\n",
    "\n",
    "\n",
    "noise2 = d2[300000:end]\n",
    "@show var(noise2)\n",
    "@show findmax(d2)\n",
    "@show signal_peak2 = findmax(d2)[1]\n",
    "\n",
    "@show SNR_o2 = (signal_peak2^2)/var(noise2)\n",
    "# noise1 = signal1[1000:1:1250]\n",
    "# @show var(noise1)\n",
    "# sig_shift = signal1.+67.5\n",
    "# x = sig_shift\n",
    "\n",
    "# @show mean_sig_shift = mean(sig_shift)\n",
    "# @show findmax(x[100:1:end])\n",
    "# @show signal_peak = findmax(x[100:1:end])[1]\n",
    "\n",
    "# @show SNR_o2 = (signal_peak^2)/var(noise1)\n",
    "@show improve = SNR_o2/SNR_o"
   ]
  }
 ],
 "metadata": {
  "kernelspec": {
   "display_name": "Julia 1.6.2",
   "language": "julia",
   "name": "julia-1.6"
  },
  "language_info": {
   "file_extension": ".jl",
   "mimetype": "application/julia",
   "name": "julia",
   "version": "1.6.2"
  }
 },
 "nbformat": 4,
 "nbformat_minor": 5
}

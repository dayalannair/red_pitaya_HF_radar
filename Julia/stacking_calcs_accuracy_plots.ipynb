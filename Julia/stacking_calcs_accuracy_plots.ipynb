{
 "cells": [
  {
   "cell_type": "markdown",
   "metadata": {},
   "source": [
    "# Sums of Random Variables: Signal stacking"
   ]
  },
  {
   "cell_type": "code",
   "execution_count": null,
   "metadata": {},
   "outputs": [],
   "source": [
    "using DelimitedFiles;\n",
    "using Plots;\n",
    "using Statistics;\n",
    "plotly();\n",
    "using FFTW;"
   ]
  },
  {
   "cell_type": "code",
   "execution_count": null,
   "metadata": {
    "scrolled": true
   },
   "outputs": [],
   "source": [
    "N = 500"
   ]
  },
  {
   "cell_type": "markdown",
   "metadata": {},
   "source": [
    "# Real Data\n",
    "## Single noise reading"
   ]
  },
  {
   "cell_type": "code",
   "execution_count": null,
   "metadata": {
    "scrolled": false
   },
   "outputs": [],
   "source": [
    "x =(open(readdlm,\"noise2.txt\"));\n",
    "@show size(x)[1]\n",
    "@show mean(x)\n",
    "@show σₓ = std(x)\n",
    "histogram(x, linecolor = :match)"
   ]
  },
  {
   "cell_type": "markdown",
   "metadata": {},
   "source": [
    "## 500 Noise stack"
   ]
  },
  {
   "cell_type": "code",
   "execution_count": null,
   "metadata": {
    "scrolled": false
   },
   "outputs": [],
   "source": [
    "z =(open(readdlm,\"noise500stack.txt\"));\n",
    "N=500\n",
    "M=100000\n",
    "fs = 125e6\n",
    "Δt = 1/fs\n",
    "t = 0:Δt:(M-1)*Δt;\n",
    "z = z./N\n",
    "y1 = [x.+158,z.+110]\n",
    "p0 = plot(z.*(2/2^14))\n",
    "display(p0)\n",
    "p1 = plot(t,y1.*(2/2^14), label = [\"unstacked noise\" \"500-stack noise\"])\n",
    "xlabel!(\"Time (s)\")\n",
    "ylabel!(\"Amplitude (V)\")\n",
    "p2 = histogram(y1.*(2/2^14), label = [\"unstacked noise\" \"500-stack noise\"], linecolor = [:match :match])\n",
    "xlabel!(\"Noise level (V)\")\n",
    "ylabel!(\"Frequency (number of occurrences)\")\n",
    "@show size(z)[1]\n",
    "@show mean(z)\n",
    "@show std(z)\n",
    "@show size(x)[1]\n",
    "@show mean(x)\n",
    "@show σₓ = std(x)\n",
    "\n",
    "display(p1)\n",
    "display(p2)\n",
    "\n",
    "\n",
    "\n",
    "#p1 = plot(z)\n",
    "#plot!(x)"
   ]
  },
  {
   "cell_type": "code",
   "execution_count": null,
   "metadata": {
    "scrolled": false
   },
   "outputs": [],
   "source": [
    "@show mean(z)\n",
    "@show std(z)\n",
    "@show mean(x)\n",
    "@show σₓ = std(x)\n",
    "@show σ_z = σₓ/sqrt(500)"
   ]
  },
  {
   "cell_type": "markdown",
   "metadata": {},
   "source": [
    "## Theoretical standard deviation"
   ]
  },
  {
   "cell_type": "code",
   "execution_count": null,
   "metadata": {
    "scrolled": true
   },
   "outputs": [],
   "source": [
    "σ_z = σₓ/sqrt(500)"
   ]
  },
  {
   "cell_type": "markdown",
   "metadata": {},
   "source": [
    "# Simulations"
   ]
  },
  {
   "cell_type": "code",
   "execution_count": null,
   "metadata": {},
   "outputs": [],
   "source": [
    "SIZE = 10000\n",
    "N = 500\n",
    "x_sim = randn(SIZE)\n",
    "σ_xsim = std(x_sim)\n",
    "\n",
    "\n",
    "z_sim = zeros(SIZE)\n",
    "for i in 1:N\n",
    "    temp_x = randn(SIZE)\n",
    "    z_sim = z_sim .+ temp_x\n",
    "end\n",
    "\n",
    "z_sim = z_sim./N\n",
    "\n",
    "#@show mean(x_sim)\n",
    "@show σ_xsim=std(x_sim)\n",
    "\n",
    "#@show mean(z_sim)\n",
    "@show std(z_sim)\n",
    "#hist_x = hist(x_sim)\n",
    "#hist_z = hist(z_sim)\n",
    "\n",
    "@show σ_xsim/sqrt(N)\n",
    "\n",
    "y = [x_sim, z_sim]\n",
    "xplot = plot(y, label = [\"unstacked noise\" \"500-stack noise\"])\n",
    "xlabel!(\"Sample number\")\n",
    "ylabel!(\"Amplitude (V)\")\n",
    "\n",
    "\n",
    "xhist = histogram(y, label = [\"unstacked noise\" \"500-stack noise\"], linecolor = [:black :match])\n",
    "#histogram!(z_sim,linecolor = :match)\n",
    "xlabel!(\"Noise level (V)\")\n",
    "ylabel!(\"Frequency (number of occurrences)\")\n",
    "\n",
    "display(xplot)\n",
    "display(xhist)\n",
    "\n",
    "# zplot = plot(z_sim, legend = false, linecolor = :darkorange2)\n",
    "# xlabel!(\"Sample number\")\n",
    "# ylabel!(\"Magnitude\")\n",
    "\n",
    "\n",
    "# zhist = histogram(z_sim, legend = false,linecolor = :darkorange2)\n",
    "# xlabel!(\"Noise level (V)\")\n",
    "# ylabel!(\"Frequency (number of occurances)\")\n",
    "\n",
    "# display(zplot)\n",
    "# display(zhist)"
   ]
  },
  {
   "cell_type": "code",
   "execution_count": null,
   "metadata": {},
   "outputs": [],
   "source": [
    "#20 stack/sheet. all same irrespective of stacking\n",
    "echo1_meas = [110, 120, 130, 140, 150, 160, 170] \n",
    "echo1_res = [109.8, 119.5, 128.4, 137.5, 147.04, 156.81, 167.19]\n",
    "distance = 110:10:170\n",
    "\n",
    "y_echo1 = [echo1_meas, echo1_res]\n",
    "p_echo1 = plot(distance, y_echo1, label = [\"tape measure\" \"sonar echo\"], markershape = :circle)\n",
    "xlabel!(\"Distance (cm)\")\n",
    "ylabel!(\"Measured distance (cm)\")"
   ]
  },
  {
   "cell_type": "code",
   "execution_count": null,
   "metadata": {},
   "outputs": [],
   "source": [
    "#corner\n",
    "echo2_meas = [140, 150, 200, 220, 380, 400] \n",
    "echo2_res = [140.0, 149.4, 196.2, 202.4, 346.8, 371.3]\n",
    "\n",
    "y_echo2 = [echo2_meas, echo2_res]\n",
    "p_echo2 = plot(echo2_meas, y_echo2, label = [\"tape measure\" \"sonar echo\"], markershape = :circle, legend = :bottomright)\n",
    "xlabel!(\"Distance (cm)\")\n",
    "ylabel!(\"Measured distance (cm)\")"
   ]
  },
  {
   "cell_type": "code",
   "execution_count": null,
   "metadata": {},
   "outputs": [],
   "source": [
    "echo3_meas = [110, 120, 130, 140, 150, 160, 170, 180 , 190, 210, 320, 350, 370] \n",
    "echo3_res = [110.3, 118.3, 128.3, 137.2, 146.4, 156.2, 165.7, 174.3 , 183.9, 203.5, 307.6,335, 352.6] \n",
    "\n",
    "y_echo3 = [echo3_meas, echo3_res]\n",
    "p_echo3 = plot(echo3_meas, y_echo3, label = [\"tape measure\" \"sonar echo\"], markershape = :circle, legend = :bottomright)\n",
    "xlabel!(\"Distance (cm)\")\n",
    "ylabel!(\"Measured distance (cm)\")"
   ]
  }
 ],
 "metadata": {
  "kernelspec": {
   "display_name": "Julia 1.6.2",
   "language": "julia",
   "name": "julia-1.6"
  },
  "language_info": {
   "file_extension": ".jl",
   "mimetype": "application/julia",
   "name": "julia",
   "version": "1.6.2"
  }
 },
 "nbformat": 4,
 "nbformat_minor": 4
}

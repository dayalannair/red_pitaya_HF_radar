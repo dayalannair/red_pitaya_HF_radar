{
 "cells": [
  {
   "cell_type": "code",
   "execution_count": null,
   "id": "52151f5a",
   "metadata": {},
   "outputs": [],
   "source": [
    "using DelimitedFiles\n",
    "using Plots\n",
    "plotly()\n",
    "using FFTW"
   ]
  },
  {
   "cell_type": "code",
   "execution_count": null,
   "id": "6bbeb207",
   "metadata": {
    "scrolled": false
   },
   "outputs": [],
   "source": [
    "N = 4000000\n",
    "fs = 125e6\n",
    "Δt = 1/fs\n",
    "t = 0:Δt:(N-1)*Δt;"
   ]
  },
  {
   "cell_type": "code",
   "execution_count": null,
   "id": "9d76c5cc",
   "metadata": {},
   "outputs": [],
   "source": [
    "#20 chirp stack\n",
    "d1 =(open(readdlm,\"20sheet//110x20.txt\"));\n",
    "d2 =(open(readdlm,\"20sheet//120x20.txt\"));\n",
    "d3 =(open(readdlm,\"20sheet//130x20.txt\"));\n",
    "d4 =(open(readdlm,\"20sheet//140x20.txt\"));\n",
    "d5 =(open(readdlm,\"20sheet//150x20.txt\"));\n",
    "d6 =(open(readdlm,\"20sheet//160x20.txt\"));\n",
    "d7 =(open(readdlm,\"20sheet//180x20.txt\"));\n",
    "d8 =(open(readdlm,\"20sheet//190x20.txt\"));"
   ]
  },
  {
   "cell_type": "code",
   "execution_count": null,
   "id": "430104d8",
   "metadata": {},
   "outputs": [],
   "source": [
    "# single chirp\n",
    "e1 =(open(readdlm,\"1sheet//110x1.txt\"));\n",
    "e2 =(open(readdlm,\"1sheet//120x1.txt\"));\n",
    "e3 =(open(readdlm,\"1sheet//130x1.txt\"));\n",
    "e4 =(open(readdlm,\"1sheet//140x1.txt\"));\n",
    "e5 =(open(readdlm,\"1sheet//150x1.txt\"));\n",
    "e6 =(open(readdlm,\"1sheet//160x1.txt\"));\n",
    "e7 =(open(readdlm,\"1sheet//170x1.txt\"));\n",
    "e8 =(open(readdlm,\"1sheet//180x1.txt\"));\n",
    "e9 =(open(readdlm,\"1sheet//190x1.txt\"));\n",
    "e10 =(open(readdlm,\"1sheet//210x1.txt\"));"
   ]
  },
  {
   "cell_type": "code",
   "execution_count": null,
   "id": "12a14229",
   "metadata": {},
   "outputs": [],
   "source": [
    "#50 stack\n",
    "f1 =(open(readdlm,\"50sheet//160x50.txt\"));\n",
    "f2 =(open(readdlm,\"50sheet//170x50.txt\"));\n",
    "f3 =(open(readdlm,\"50sheet//180x50.txt\"));\n",
    "f4 =(open(readdlm,\"50sheet//190x50.txt\"));\n",
    "f5 =(open(readdlm,\"50sheet//210x50.txt\"));"
   ]
  },
  {
   "cell_type": "code",
   "execution_count": null,
   "id": "7562ee7f",
   "metadata": {},
   "outputs": [],
   "source": [
    "#labels\n",
    "label1  = [\"110 cm\" \"120 cm\" \"130 cm\" \"140 cm\" \"150 cm\" \"160 cm\" \"170 cm\" \"180 cm\" \"190 cm\" \"210 cm\"]\n",
    "label20 = [\"110 cm\" \"120 cm\" \"130 cm\" \"140 cm\" \"150 cm\" \"160 cm\" \"180 cm\" \"190 cm\"]\n",
    "label50 = [\"160 cm\" \"170 cm\" \"180 cm\" \"190 cm\" \"210 cm\"];"
   ]
  },
  {
   "cell_type": "code",
   "execution_count": null,
   "id": "d3696861",
   "metadata": {
    "scrolled": false
   },
   "outputs": [],
   "source": [
    "L = 3000000\n",
    "out1 = [e1[1:25:L],e2[1:25:L],e3[1:25:L],e4[1:25:L],e5[1:25:L],e6[1:25:L],e7[1:25:L],e8[1:25:L],e9[1:25:L],e10[1:25:L]]\n",
    "out20 = [d1[1:25:L],d2[1:25:L],d3[1:25:L],d4[1:25:L],d5[1:25:L],d6[1:25:L],d7[1:25:L],d8[1:25:L]]\n",
    "out50 = [f1[1:25:L],f2[1:25:L],f3[1:25:L],f4[1:25:L],f5[1:25:L]]\n",
    "\n",
    "#ylim = [-0.05, 0.05],\n",
    "#p1 = plot(t[1:25:L],out100.*(2/2^14), label = label100)#.*(2/2^14)\n",
    "p1 = plot(t[1:25:L],out1[1:end-4].*(2/2^14),label = label1)\n",
    "xlabel!(\"Time (s)\")\n",
    "ylabel!(\"Amplitude (V)\")\n",
    "p2 = plot(t[1:25:L],out20[1:end-2].*(2/2^14),label = label20)\n",
    "xlabel!(\"Time (s)\")\n",
    "ylabel!(\"Amplitude (V)\")\n",
    "p3 = plot(t[1:25:L],out50[1:end-2].*(2/2^14),label = label50)\n",
    "xlabel!(\"Time (s)\")\n",
    "ylabel!(\"Amplitude (V)\")\n",
    "\n",
    "display(p1)\n",
    "display(p2)\n",
    "display(p3)"
   ]
  },
  {
   "cell_type": "code",
   "execution_count": null,
   "id": "4550f1a2",
   "metadata": {},
   "outputs": [],
   "source": [
    "#MATCHED FILTER\n",
    "\n",
    "q = (open(readdlm,\"500stack_metal.txt\"));\n",
    "using Statistics\n",
    "x = 728863\n",
    "mf2 = q[x:2*x]\n",
    "@show mean(q)\n",
    "@show size(mf2)[1]\n",
    "h_pad = zeros(N)\n",
    "for i in 1:size(mf2)[1]\n",
    "    h_pad[i] = mf2[i]+53100\n",
    "end\n",
    "H_PAD = fft(h_pad)\n",
    "H = conj.(H_PAD);#for half:[1:Int(end/2)]\n",
    "f=(0:N-1)*fs/N\n",
    "\n",
    "D1 = fft(d1)\n",
    "D2 = fft(d2)\n",
    "D3 = fft(d3)\n",
    "D4 = fft(d4)\n",
    "D5 = fft(d5)\n",
    "D6 = fft(d6)\n",
    "D7 = fft(d7)\n",
    "D8 = fft(d8)\n",
    "\n",
    "E1 = fft(e1)\n",
    "E2 = fft(e2)\n",
    "E3 = fft(e3)\n",
    "E4 = fft(e4)\n",
    "E5 = fft(e5)\n",
    "E6 = fft(e6)\n",
    "E7 = fft(e7)\n",
    "E8 = fft(e8)\n",
    "E9 = fft(e9)\n",
    "E10 = fft(e10)\n",
    "E11 = fft(e11)\n",
    "\n",
    "F1 = fft(f1)\n",
    "F2 = fft(f2)\n",
    "F3 = fft(f3)\n",
    "F4 = fft(f4)\n",
    "F5 = fft(f5)\n",
    "\n",
    "YD1 = H.*D1\n",
    "yd1 = ifft(YD1);\n",
    "YD2 = H.*D2\n",
    "yd2 = ifft(YD2);\n",
    "YD3 = H.*D3\n",
    "yd3 = ifft(YD3);\n",
    "YD4 = H.*D4\n",
    "yd4 = ifft(YD4);\n",
    "YD5 = H.*D5\n",
    "yd5 = ifft(YD5);\n",
    "YD6 = H.*D6\n",
    "yd6 = ifft(YD6);\n",
    "YD7 = H.*D7\n",
    "yd7 = ifft(YD7);\n",
    "YD8 = H.*D8\n",
    "yd8 = ifft(YD8);\n",
    "\n",
    "YE1 = H.*E1\n",
    "ye1 = ifft(YE1);\n",
    "YE2 = H.*E2\n",
    "ye2 = ifft(YE2);\n",
    "YE3 = H.*E3\n",
    "ye3 = ifft(YE3);\n",
    "YE4 = H.*E4\n",
    "ye4 = ifft(YE4);\n",
    "YE5 = H.*E5\n",
    "ye5 = ifft(YE5);\n",
    "YE6 = H.*E6\n",
    "ye6 = ifft(YE6);\n",
    "YE7 = H.*E7\n",
    "ye7 = ifft(YE7);\n",
    "YE8 = H.*E8\n",
    "ye8 = ifft(YE8);\n",
    "YE9 = H.*E9\n",
    "ye9 = ifft(YE9);\n",
    "YE10 = H.*E10\n",
    "ye10 = ifft(YE10);\n",
    "\n",
    "\n",
    "YF1 = H.*F1\n",
    "yf1 = ifft(YF1);\n",
    "YF2 = H.*F2\n",
    "yf2 = ifft(YF2);\n",
    "YF3 = H.*F3\n",
    "yf3 = ifft(YF3);\n",
    "YF4 = H.*F4\n",
    "yf4 = ifft(YF4);\n",
    "YF5 = H.*F5\n",
    "yf5 = ifft(YF5);\n",
    "\n",
    "M = 2000000\n",
    "mf_out20 = [real(yd1[1:20:M]),real(yd2[1:20:M]),real(yd3[1:20:M]),real(yd4[1:20:M]),real(yd5[1:20:M]),real(yd6[1:20:M]),real(yd7[1:20:M]),real(yd8[1:20:M])];\n",
    "mf_out1 = [real(ye1[1:20:M]),real(ye2[1:20:M]),real(ye3[1:20:M]),real(ye4[1:20:M]),real(ye5[1:20:M]),real(ye6[1:20:M]),real(ye7[1:20:M]),real(ye8[1:20:M]),real(ye9[1:20:M]),real(ye10[1:20:M])];\n",
    "mf_out50 = [real(yf1[1:20:M]),real(yf2[1:20:M]),real(yf3[1:20:M]),real(yf4[1:20:M]),real(yf5[1:20:M])];"
   ]
  },
  {
   "cell_type": "code",
   "execution_count": null,
   "id": "c1fe8866",
   "metadata": {},
   "outputs": [],
   "source": [
    "p3 = plot(f[1:10:2000000],abs.(H[1:10:2000000]), ticks = :native)"
   ]
  },
  {
   "cell_type": "code",
   "execution_count": null,
   "id": "4959cbaa",
   "metadata": {},
   "outputs": [],
   "source": [
    "peak = argmax(real(ye10))\n",
    "@show distance = t[peak[1]]*343/2"
   ]
  },
  {
   "cell_type": "code",
   "execution_count": null,
   "id": "dcd6d054",
   "metadata": {},
   "outputs": [],
   "source": [
    "p1 = plot(t[1:20:M]*343/2,mf_out1[1:end-4],label = label1, legend = :inside)\n",
    "xlabel!(\"Time (s)\")\n",
    "ylabel!(\"Amplitude\")\n",
    "\n",
    "p2 = plot(t[1:20:M]*343/2,mf_out20[1:end-2],label = label20, legend = :inside)\n",
    "xlabel!(\"Time (s)\")\n",
    "ylabel!(\"Amplitude\")\n",
    "\n",
    "p3 = plot(t[1:20:M]*343/2,mf_out50[1:end-2],label = label50, legend = :inside)\n",
    "xlabel!(\"Time (s)\")\n",
    "ylabel!(\"Amplitude\")\n",
    "\n",
    "display(p1)\n",
    "display(p2)\n",
    "display(p3)"
   ]
  },
  {
   "cell_type": "code",
   "execution_count": null,
   "id": "fc9fe9c2",
   "metadata": {},
   "outputs": [],
   "source": [
    "D1 = fft(d1)\n",
    "D2 = fft(d2)\n",
    "D3 = fft(d3)\n",
    "D4 = fft(d4)\n",
    "D5 = fft(d5)\n",
    "D6 = fft(d6)\n",
    "\n",
    "mid = Int(size(D1)[1]/2)\n",
    "M = 2000000\n",
    "\n",
    "Y1 = H.*D1[1:mid]\n",
    "y1 = ifft(Y1);\n",
    "Y2 = H.*D2[1:mid]\n",
    "y2 = ifft(Y2);\n",
    "Y3 = H.*D3[1:mid]\n",
    "y3 = ifft(Y3);\n",
    "Y4 = H.*D4[1:mid]\n",
    "y4 = ifft(Y4);\n",
    "Y5 = H.*D5[1:mid]\n",
    "y5 = ifft(Y5);\n",
    "Y6 = H.*D6[1:mid]\n",
    "y6 = ifft(Y6);\n",
    "#mf_out20 = [abs.(y1),abs.(y2),abs.(y3),abs.(y4),abs.(y5),abs.(y6)];\n",
    "mf_out20 = [abs.(y1[1:20:M]),abs.(y2[1:20:M]),abs.(y3[1:20:M]),abs.(y4[1:20:M]),abs.(y5[1:20:M]),abs.(y6[1:20:M])];"
   ]
  },
  {
   "cell_type": "code",
   "execution_count": null,
   "id": "27502aca",
   "metadata": {},
   "outputs": [],
   "source": [
    "p20 = plot(t[1:20:M],mf_out20)"
   ]
  },
  {
   "cell_type": "code",
   "execution_count": null,
   "id": "a3590463",
   "metadata": {
    "scrolled": true
   },
   "outputs": [],
   "source": [
    "D6b = fft(d6b)\n",
    "D7 = fft(d7)\n",
    "\n",
    "Y6b = H.*D6b\n",
    "y6b = ifft(Y6b);\n",
    "Y7 = H.*D7\n",
    "y7 = ifft(Y7);\n",
    "\n",
    "# mf_out2 = [real(y6b)[1:20:end-1000000],real(y7)[1:20:end-1000000]]\n",
    "# p1 = plot(t[1:20:end-1000000]*343/2,mf_out2, label = [\"160 cm\" \"170 cm\"])\n",
    "# xlabel!(\"Distance (m)\")\n",
    "# ylabel!(\"Amplitude (a.u.)\")\n",
    "\n"
   ]
  },
  {
   "cell_type": "code",
   "execution_count": null,
   "id": "38d0e9af",
   "metadata": {},
   "outputs": [],
   "source": [
    "#SNR CALCULATIONS\n",
    "using Statistics \n",
    "#noise = (open(readdlm,\"noise1.txt\"));\n",
    "signal  = (open(readdlm,\"160x20.txt\"));\n",
    "signal1  = (open(readdlm,\"160x1.txt\"));"
   ]
  },
  {
   "cell_type": "code",
   "execution_count": null,
   "id": "13713123",
   "metadata": {},
   "outputs": [],
   "source": [
    "q = (open(readdlm,\"500stack_metal.txt\"));\n",
    "using Statistics\n",
    "x = 728863\n",
    "mf2 = q[x:2*x]\n",
    "@show mean(q)\n",
    "@show size(mf2)[1]\n",
    "h_pad = zeros(N)\n",
    "for i in 1:size(mf2)[1]\n",
    "    h_pad[i] = mf2[i]+53100\n",
    "end\n",
    "H_PAD = fft(h_pad)\n",
    "H = conj.(H_PAD);#for half:[1:Int(end/2)]\n",
    "f=(0:N-1)*fs/N"
   ]
  },
  {
   "cell_type": "code",
   "execution_count": null,
   "id": "4d4e5bd4",
   "metadata": {},
   "outputs": [],
   "source": [
    "\n",
    "D1 = fft(signal)\n",
    "Y1 = H.*D1\n",
    "y1 = ifft(Y1);\n",
    "#mid = Int(size(D1)[1]/2)\n",
    "#M = 2000000\n",
    "\n",
    "pk = findmax(real(y1))[1]\n",
    "\n",
    "#ns = y1[]\n",
    "\n",
    "pf = plot( real(y1[400000:700000]))"
   ]
  },
  {
   "cell_type": "code",
   "execution_count": null,
   "id": "a8ea3a26",
   "metadata": {
    "scrolled": true
   },
   "outputs": [],
   "source": [
    "signal= signal #./20\n",
    "@show avg = mean(signal[1000:1:1250])\n",
    "pr = plot(signal1[1000:1:1250].+67.5)\n",
    "noise = signal[1000:1:1250].-avg\n",
    "@show mean(noise)\n",
    "display(pr)\n",
    "#n = plot(noise.-mean(noise))"
   ]
  },
  {
   "cell_type": "code",
   "execution_count": null,
   "id": "7104a501",
   "metadata": {},
   "outputs": [],
   "source": [
    "\n",
    "noise = signal[1000:1:1250]\n",
    "@show var(noise)\n",
    "sig_shift = signal.+2130\n",
    "x = sig_shift\n",
    "\n",
    "@show mean_sig_shift = mean(sig_shift)\n",
    "@show findmax(x[100:1:end])\n",
    "@show signal_peak = findmax(x[100:1:end])[1]\n",
    "\n",
    "@show SNR_o = (signal_peak^2)/var(noise)\n",
    "\n",
    "\n",
    "noise1 = signal1[1000:1:1250]\n",
    "@show var(noise1)\n",
    "sig_shift = signal1.+67.5\n",
    "x = sig_shift\n",
    "\n",
    "@show mean_sig_shift = mean(sig_shift)\n",
    "@show findmax(x[100:1:end])\n",
    "@show signal_peak = findmax(x[100:1:end])[1]\n",
    "\n",
    "@show SNR_o2 = (signal_peak^2)/var(noise1)"
   ]
  },
  {
   "cell_type": "code",
   "execution_count": null,
   "id": "5660481f",
   "metadata": {},
   "outputs": [],
   "source": [
    "signal2  = (open(readdlm,\"350x20.txt\"));\n",
    "pe = plot(signal2[1000:20:end].+2133)"
   ]
  },
  {
   "cell_type": "code",
   "execution_count": null,
   "id": "452d9a16",
   "metadata": {},
   "outputs": [],
   "source": [
    "\n",
    "noise2 = signal2[3500000:1:3500100]\n",
    "@show var(noise2)\n",
    "@show cent = mean(noise2)\n",
    "\n",
    "\n",
    "@show mean_sig_shift = mean(sig_shift)\n",
    "@show findmax(signal2[1000:1:end])\n",
    "@show signal_peak = findmax(signal2[1000:1:end])[1]\n",
    "\n",
    "@show SNR_o3 = ((signal_peak-cent)^2)/var(noise2)"
   ]
  },
  {
   "cell_type": "code",
   "execution_count": null,
   "id": "ad1bc7f5",
   "metadata": {
    "scrolled": true
   },
   "outputs": [],
   "source": [
    "d1 =(open(readdlm,\"220x50cone.txt\"));\n",
    "H_PAD = fft(h_pad)\n",
    "H = conj.(H_PAD)\n",
    "D1 = fft(d1)\n",
    "Y = H.*D1 #test on D1 which used 10 chirps\n",
    "y = ifft(Y); #time domain\n",
    "peak = argmax(real(y))\n",
    "@show size(real(y)[1])\n",
    "@show distance = t[peak[1]]*343/2"
   ]
  },
  {
   "cell_type": "code",
   "execution_count": null,
   "id": "d3ce08e7",
   "metadata": {},
   "outputs": [],
   "source": [
    "p3 = plot(t[1:10:4000000]*343/2,real(d1[1:10:4000000]))"
   ]
  },
  {
   "cell_type": "code",
   "execution_count": null,
   "id": "c48131f6",
   "metadata": {
    "scrolled": true
   },
   "outputs": [],
   "source": [
    "\n",
    "H_PAD = fft(h_pad)\n",
    "H = conj.(H_PAD)\n",
    "D1 = fft(d1)\n",
    "Y = H.*D1 #test on D1 which used 10 chirps\n",
    "y = ifft(Y); #time domain\n",
    "p3 = plot(t[1:10:4000000]*343/2,real(y[1:10:4000000]))\n",
    "title!(\"Matched filter output\")"
   ]
  },
  {
   "cell_type": "code",
   "execution_count": null,
   "id": "f2ebb42a",
   "metadata": {},
   "outputs": [],
   "source": [
    "peak = argmax(real(y))\n",
    "@show distance = t[peak[1]]*343/2"
   ]
  },
  {
   "cell_type": "code",
   "execution_count": null,
   "id": "7d1e8194",
   "metadata": {},
   "outputs": [],
   "source": [
    "#1.097739944"
   ]
  },
  {
   "cell_type": "code",
   "execution_count": null,
   "id": "921c45f3",
   "metadata": {},
   "outputs": [],
   "source": [
    "y = [abs.(D1[10:last]),abs.(D2[10:last])]\n",
    "\n",
    "\n",
    "p2 = plot(f[10:last],y, label = [\"original\" \"tuned\"], ticks=:native)\n",
    "#plot!(f_ax(D4),fftshift(abs.(D4)))#,label = [\"original\", \"tuned\"])\n",
    "#plot!(f[10:last],abs.(D2[10:last]))\n",
    "#plot!()\n",
    "#plot!(f_ax(D3),fftshift(abs.(D3)))#,label = [\"original\", \"tune 1\", \"tune 2\"])\n",
    "#title!(\"Magnitude response\")\n",
    "xlabel!(\"Frequency (Hz)\")\n",
    "ylabel!(\"Magnitude\")"
   ]
  },
  {
   "cell_type": "code",
   "execution_count": null,
   "id": "5350243a",
   "metadata": {},
   "outputs": [],
   "source": [
    "# @show N2 = N/2\n",
    "# @show length(D3)\n",
    "\n",
    "# fs = 125e6\n",
    "# f=(0:N2-1)*fs/N2\n",
    "# plot(f,abs.(D3),  ticks=:native)\n",
    "#plot!(f_,abs.(D3),  ticks=:native)"
   ]
  },
  {
   "cell_type": "code",
   "execution_count": null,
   "id": "832c7949",
   "metadata": {},
   "outputs": [],
   "source": [
    "# d3 = (open(readdlm,\"40ksigen.txt\"));"
   ]
  },
  {
   "cell_type": "code",
   "execution_count": null,
   "id": "2aa970cb",
   "metadata": {},
   "outputs": [],
   "source": [
    "# D3 = fft(d3);\n",
    "# N2 = length(D3)\n",
    "# @show fs = 125e6\n",
    "# f=(0:N2-1)*fs/N2#117647058.8\n",
    "# plot(f[1:1500],abs.(D3[1:1500]),  ticks=:native)"
   ]
  },
  {
   "cell_type": "code",
   "execution_count": null,
   "id": "7c53b34d",
   "metadata": {},
   "outputs": [],
   "source": [
    "N = 100000#175e3\n",
    "fs = 125e6\n",
    "Δt = 1/fs\n",
    "t = 0:Δt:(N-1)/fs;  \n",
    "fc = 40e3\n",
    "v = cos.(2*pi*fc*t)\n",
    "p1 = plot(t,v.*28, legend = false)\n",
    "plot!(t,d3[1:100000].+139)\n",
    "xlabel!(\"Time (μs)\")\n",
    "ylabel!(\"Amplitude\")"
   ]
  },
  {
   "cell_type": "code",
   "execution_count": null,
   "id": "e67900e1",
   "metadata": {},
   "outputs": [],
   "source": [
    "V = fft(v);\n",
    "@show N2 = length(V)\n",
    "f=(0:N2-1)*fs/N2\n",
    "p2 = plot(f[3:40],abs.(V[3:40]),legend=false,  ticks=:native)"
   ]
  },
  {
   "cell_type": "code",
   "execution_count": null,
   "id": "2e2c7f95",
   "metadata": {},
   "outputs": [],
   "source": [
    "V[2]\n",
    "@show x = findmax(abs.(V))\n",
    "f[x[2]]"
   ]
  }
 ],
 "metadata": {
  "kernelspec": {
   "display_name": "Julia 1.6.2",
   "language": "julia",
   "name": "julia-1.6"
  },
  "language_info": {
   "file_extension": ".jl",
   "mimetype": "application/julia",
   "name": "julia",
   "version": "1.6.2"
  }
 },
 "nbformat": 4,
 "nbformat_minor": 5
}
